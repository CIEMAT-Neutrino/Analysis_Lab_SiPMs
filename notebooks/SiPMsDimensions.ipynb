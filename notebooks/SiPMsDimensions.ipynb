{
 "cells": [
  {
   "attachments": {},
   "cell_type": "markdown",
   "metadata": {},
   "source": [
    "## SiPMs Analysis\n",
    "By running this notebook you will obtain diferent histograms ['Pins Height (back)','Pins Height (front)','PCB Width','SiPMs Height'].\n",
    "\n",
    "(The INPUT information is stored in .xlsx files as returned by the IR02 machine)"
   ]
  },
  {
   "attachments": {},
   "cell_type": "markdown",
   "metadata": {},
   "source": [
    "## Distributions in xlsx files\n",
    "\n",
    "Here you can see two examples of the distributions that you expect from the input data"
   ]
  },
  {
   "attachments": {},
   "cell_type": "markdown",
   "metadata": {},
   "source": [
    "##### ANVERSO\n",
    "\n",
    "Measurements of the boards for the front side"
   ]
  },
  {
   "attachments": {},
   "cell_type": "markdown",
   "metadata": {},
   "source": [
    "<img src=\"../lib/dist_anverso.png\" alt=\"anverso\"/>"
   ]
  },
  {
   "attachments": {},
   "cell_type": "markdown",
   "metadata": {},
   "source": [
    "##### REVERSO\n",
    "\n",
    "Measurements of the boards for the back side"
   ]
  },
  {
   "attachments": {},
   "cell_type": "markdown",
   "metadata": {},
   "source": [
    "<img src=\"../lib/dist_reverso.png\" alt=\"reverso\"/>"
   ]
  },
  {
   "attachments": {},
   "cell_type": "markdown",
   "metadata": {},
   "source": [
    "## RUN ALL\n",
    "\n",
    "First we import the packages and select the names of the columns that our tables from now on will use"
   ]
  },
  {
   "cell_type": "code",
   "execution_count": null,
   "metadata": {},
   "outputs": [],
   "source": [
    "# Importing the function and packages to be used. Make sure you have installed them!\n",
    "import sys; sys.path.insert(0, '../'); from lib import *"
   ]
  },
  {
   "cell_type": "code",
   "execution_count": null,
   "metadata": {},
   "outputs": [],
   "source": [
    "# Labels for the columns\n",
    "pcbs_labels = ['Diametro Taladro 1 (S1)', 'Posición Y S1', 'Posición X S1', 'Diametro Taladro 2 (S6)', 'Posición Y TS6', 'Posición X TS6', 'Planitud PCB','Anchura (media)', 'Anchura (maxima)', 'Longitud (media)','Longitud (maxima)', 'Longitud rebaje izquierdo', 'Anchura rebaje izquierdo', 'Longitud rebaje derecho', 'Anchura rebaje derecho', 'Distancia entre taladros']\n",
    "sipm_labels = ['Anchura', 'Longitud', 'Posición X', 'Posición Y', 'Planitud', 'Altura']\n",
    "pina_labels = ['Posición X', 'Posición Y', 'Altura Pin'] #pin anverso\n",
    "pinr_labels = ['Altura Pin'] #pin reverso"
   ]
  },
  {
   "cell_type": "markdown",
   "metadata": {},
   "source": [
    "Next, you need to select the names and locations of the files that you want to analyze.\n",
    "\n",
    "_Example_\n",
    "\n",
    "```python\n",
    "    folder = \"../data/2023_03_10/\"\n",
    "    pcbs0,sipm0,pinr0,pina0 = data2npy(folder=folder,pcbs_labels=pcbs_labels,sipm_labels=sipm_labels,pins_labels=pina_labels,mode=10,debug=False)\n",
    "\n",
    "    df_pcbs_ids = df_display(pcbs0,labels = pcbs_labels+[\"IDs\"],name=\"pcbs\",terminal_output=True,save=True)\n",
    "    df_sipm_ids = df_display(sipm0,labels = sipm_labels+[\"IDs\"],name=\"sipm\",terminal_output=True,save=True,index=[\"SiPM #1\",\"SiPM #2\",\"SiPM #3\",\"SiPM #4\",\"SiPM #5\",\"SiPM #6\"]*len(df_pcbs_ids))\n",
    "    df_pina_ids = df_display(pina0,labels = pina_labels+[\"IDs\"],name=\"pina\",terminal_output=True,save=True,index=[\"Pin #1\",\"Pin #2\",\"Pin #3\",\"Pin #4\",\"Pin #5\",\"Pin #6\",\"Pin #7\",\"Pin #8\"]*len(df_pcbs_ids))\n",
    "    df_pinr_ids = df_display(pinr0,labels = pinr_labels+[\"IDs\"],name=\"pinr\",terminal_output=True,save=True,index=[\"Pin #1\",\"Pin #2\",\"Pin #3\",\"Pin #4\",\"Pin #5\",\"Pin #6\",\"Pin #7\",\"Pin #8\"]*len(df_pcbs_ids))\n",
    "```\n",
    "\n",
    "INPUT PARAMETERS YOU MAY NEED TO CHANGE:\n",
    "\n",
    "```data2npy```\n",
    "- folder: location of the files\n",
    "- *_labels: names of the columns that you want to use (prevoiusly stored in these variables)\n",
    "- mode: number of measurement per file (typically 10)\n",
    "\n",
    "```df_display```\n",
    "- If save = True you will have .txts in the fit_data file with these results\n",
    "- They can also be printed in the notebook with terminal_output = True\n",
    "- If index is provided it will use it to rename the rows\n",
    "\n",
    "You need to select the type of SiPM you are analysisng (\"HPK\",\"FBK\") and make sure the specifications are saved in ```Specifications/*.txt``` folder."
   ]
  },
  {
   "cell_type": "code",
   "execution_count": null,
   "metadata": {},
   "outputs": [],
   "source": [
    "# Generating data_frames for the pcbs, sipm, pins_anverso/reverso. \n",
    "\n",
    "# SIPM_MODEL = \"HPK\" # CHOOSE THE SiPM YOU ARE ANALYSING \"HPK\" or \"FBK\" \n",
    "\n",
    "# folders = [ \n",
    "#             # \"../data/2023_03_10/\" # NOT CHECKED SET; NEED TO MEASURE AGAIN\n",
    "#             \"../data/2023_05_05/\", \n",
    "#             \"../data/2023_05_05_bunchx3/\", \n",
    "#             \"../data/2023_06_19/\", \n",
    "#             \"../data/2023_07_03/\", \n",
    "#             \"../data/2023_08_30/\", \n",
    "#             \"../data/2023_09_11/\", \n",
    "#             \"../data/2023_09_13/\", \n",
    "#             \"../data/2023_10_17/\", \n",
    "#             \"../data/2023_11_16/\"\n",
    "#           ]\n",
    "\n",
    "# modes = [10, 3, 10, 10, 10, 10, 10, 10, 10]\n",
    "\n",
    "SIPM_MODEL = \"FBK\" # CHOOSE THE SiPM YOU ARE ANALYSING \"HPK\" or \"FBK\" \n",
    "\n",
    "folders = [ \n",
    "            \"../data/2024_01_08/\", \n",
    "          ]\n",
    "\n",
    "modes = [10]\n",
    "\n",
    "for f,folder in enumerate(folders):\n",
    "  p, s, r, a = data2npy(folder=folder, pcbs_labels=pcbs_labels, sipm_labels=sipm_labels, pins_labels=pina_labels, mode=modes[f], debug=False)\n",
    "  print(p)\n",
    "  if f == 0: pcbs = p; sipm = s; pinr = r; pina = a\n",
    "  else:\n",
    "    pcbs = np.concatenate((pcbs,p),axis=0)\n",
    "    sipm = np.concatenate((sipm,s),axis=0)\n",
    "    pinr = np.concatenate((pinr,r),axis=0)\n",
    "    pina = np.concatenate((pina,a),axis=0)\n",
    "\n",
    "df_pcbs_ids = df_display(pcbs, labels=pcbs_labels+[\"IDs\"], name=\"pcbs\", terminal_output=True, save=True)\n",
    "df_sipm_ids = df_display(sipm, labels=sipm_labels+[\"IDs\"], name=\"sipm\", terminal_output=True, save=True, index=[\"SiPM #1\",\"SiPM #2\",\"SiPM #3\",\"SiPM #4\",\"SiPM #5\",\"SiPM #6\"]*len(df_pcbs_ids))\n",
    "df_pina_ids = df_display(pina, labels=pina_labels+[\"IDs\"], name=\"pina\", terminal_output=True, save=True, index=[\"Pin #1\",\"Pin #2\",\"Pin #3\",\"Pin #4\",\"Pin #5\",\"Pin #6\",\"Pin #7\",\"Pin #8\"]*len(df_pcbs_ids))\n",
    "df_pinr_ids = df_display(pinr, labels=pinr_labels+[\"IDs\"], name=\"pinr\", terminal_output=True, save=True, index=[\"Pin #1\",\"Pin #2\",\"Pin #3\",\"Pin #4\",\"Pin #5\",\"Pin #6\",\"Pin #7\",\"Pin #8\"]*len(df_pcbs_ids))\n"
   ]
  },
  {
   "cell_type": "code",
   "execution_count": null,
   "metadata": {},
   "outputs": [],
   "source": [
    "# DataFrames with loaded data + IDs (caja, board, sipm, useful for identification)\n",
    "df_pcbs = df_pcbs_ids[pcbs_labels] \n",
    "df_sipm = df_sipm_ids[sipm_labels]\n",
    "df_pina = df_pina_ids[pina_labels]\n",
    "# df_pinr = df_pinr_ids[pinr_labels]\n",
    "\n",
    "pcbs_mean,pcbs_std,pcbs_max,pcbs_min = npy2df(df_pcbs[pcbs_labels], [])\n",
    "sipm_mean,sipm_std,sipm_max,sipm_min = npy2df(df_sipm[sipm_labels], [\"Posición Y\"])\n",
    "pina_mean,pina_std,pina_max,pina_min = npy2df(df_pina[pina_labels], [\"Posición Y\"])\n",
    "# pinr_mean,pinr_std,pinr_max,pinr_min = npy2df(df_pinr[pinr_labels], [])\n",
    "\n",
    "df_pcbs_exp = pd.DataFrame(np.array((pcbs_mean,pcbs_max,pcbs_min)),columns=pcbs_labels, index=[\"Experimental\", \"Max\", \"Min\"])\n",
    "df_sipm_exp = pd.DataFrame(np.array((sipm_mean,sipm_max,sipm_min)),columns=sipm_labels, index=[\"Experimental\", \"Max\", \"Min\"])\n",
    "df_pina_exp = pd.DataFrame(np.array((pina_mean,pina_max,pina_min)),columns=pina_labels, index=[\"Experimental\", \"Max\", \"Min\"])\n",
    "# df_pinr_exp = pd.DataFrame(np.array((pinr_mean,pinr_max,pinr_min)),columns=pinr_labels, index=[\"Experimental\", \"Max\", \"Min\"])"
   ]
  },
  {
   "cell_type": "markdown",
   "metadata": {},
   "source": [
    "If it is the first time you look at this kind of data you may want to see that the loading process is correct. \n",
    "\n",
    "You can do this by setting ```debug = True``` in the ```data2npy``` function and also you can use the following cell to check for consistency in the data.\n",
    "\n",
    "```sanity_check``` looks for repeated data for you to look for a posible pattern \"artificially\" introduced by your reading algorithm."
   ]
  },
  {
   "cell_type": "code",
   "execution_count": null,
   "metadata": {},
   "outputs": [],
   "source": [
    "###### SANITY CHECK: to confirm we havent duplicated data in the arrays ######\n",
    "# print(\"---- PCBs ----\")\n",
    "# sanity_check(df_pcbs,pcbs)\n",
    "\n",
    "# print(\"---- SiPM ----\")\n",
    "# sanity_check(df_sipm,sipm)\n",
    "\n",
    "# # print(\"---- Pins_anv ----\")\n",
    "# # sanity_check(df_pina,pina) # It is \"common\" to have duplicated rows\n",
    "\n",
    "# # print(\"---- Pins_rev ----\")\n",
    "# # sanity_check(df_pinr,pinr) # It is common to have duplicated rows as there are only two measurements per pin"
   ]
  },
  {
   "cell_type": "markdown",
   "metadata": {},
   "source": [
    "We now load the values set by the specifications of the SiPMs and the PCBs.\n",
    "\n",
    "MAKE SURE THESE TXT FILES ARE WHAT YOU EXPECT !\n",
    "\n",
    "To this new dataframe we add the measurements results we have obtained previosuly.\n",
    "\n",
    "The final ```df_*_all``` will be used to get the plots."
   ]
  },
  {
   "cell_type": "code",
   "execution_count": null,
   "metadata": {},
   "outputs": [],
   "source": [
    "# Load the *_hpk.txt files as dataframes\n",
    "\n",
    "df_pcbs_all = pd.read_csv('../Specifications/pcbs_%s.txt'%SIPM_MODEL.lower(), sep='\\t')\n",
    "df_sipm_all = pd.read_csv('../Specifications/sipm_%s.txt'%SIPM_MODEL.lower(), sep='\\t')\n",
    "df_pina_all = pd.read_csv('../Specifications/pina_%s.txt'%SIPM_MODEL.lower(), sep='\\t')\n",
    "df_pinr_all = pd.read_csv('../Specifications/pinr_%s.txt'%SIPM_MODEL.lower(), sep='\\t')\n",
    "\n",
    "# Add the \"Experimental\", \"Max\", and \"Min\" rows\n",
    "df_pcbs_all = pd.concat((df_pcbs_all,df_pcbs_exp.loc[[\"Experimental\", \"Max\", \"Min\"]]))\n",
    "df_sipm_all = pd.concat((df_sipm_all,df_sipm_exp.loc[[\"Experimental\", \"Max\", \"Min\"]]))\n",
    "df_pina_all = pd.concat((df_pina_all,df_pina_exp.loc[[\"Experimental\", \"Max\", \"Min\"]]))\n",
    "# df_pinr_all = pd.concat((df_pinr_all,df_pinr_exp.loc[[\"Experimental\", \"Max\", \"Min\"]]))\n",
    "\n",
    "# Rename the row names\n",
    "df_pcbs_all = df_pcbs_all.rename(index={0: \"Theoretical\", 1: \"STD+\", 2: \"STD-\"})\n",
    "df_sipm_all = df_sipm_all.rename(index={0: \"Theoretical\", 1: \"STD+\", 2: \"STD-\"})\n",
    "df_pina_all = df_pina_all.rename(index={0: \"Theoretical\", 1: \"STD+\", 2: \"STD-\"})\n",
    "# df_pinr_all = df_pinr_all.rename(index={0: \"Theoretical\", 1: \"STD+\", 2: \"STD-\"})\n",
    "\n",
    "pd.set_option('display.float_format', '{:.2f}'.format)\n",
    "# Display the dataframes\n",
    "print(\"\\n---- PCBs HPK ----\")\n",
    "display(df_pcbs_all)\n",
    "# display(pd.DataFrame(np.array(( [2.4,2.375,4,2.4,2.375,4,None,8.0,8.0,119.8,119.8,4.25,2.25,4.25,2.25,115],[0.1,0.1,0.1,0.1,0.1,0.1,None,0.2,0.2,0.25,0.25,0.1,0.1,0.1,0.1,0.2],[0.1,0.1,0.1,0.1,0.1,0.1,None,0.2,0.2,0.2,0.2,0.1,0.1,0.1,0.1,0.2],pcbs_mean,pcbs_max,pcbs_min)),columns=pcbs_labels, index=[\"Theoretical\", \"STD+\", \"STD-\", \"Experimental\", \"Max\", \"Min\"]))\n",
    "print(\"\\n---- SiPM HPK ----\")\n",
    "display(df_sipm_all)\n",
    "# display(pd.DataFrame(np.array(( [6,6,0,[7.525,27.525,47.525,67.525,87.525,107.525],0,1.4],[0.1,0.1,0.1,[0.1,0.1,0.1,0.1,0.1,0.1],0.1,0.1],[0.1,0.1,0.1,[0.1,0.1,0.1,0.1,0.1,0.1],0.1,0.1], sipm_mean, sipm_max, sipm_min )),columns=sipm_labels, index=[\"Theoretical\", \"STD+\", \"STD-\", \"Experimental\", \"Max\", \"Min\"]))\n",
    "print(\"\\n---- Pins_anv HPK ----\")\n",
    "display(df_pina_all)\n",
    "# display(pd.DataFrame(np.array(( [0,[14.5,20.5,34.5,40.5,74.5,80.5,94.5,100.5],0],[0.1,[0.1,0.1,0.1,0.1,0.1,0.1,0.1,0.1],1],[0.1,[0.1,0.1,0.1,0.1,0.1,0.1,0.1,0.1],1], pina_mean, pina_max, pina_min )), columns=pina_labels, index=[\"Theoretical\", \"STD+\", \"STD-\", \"Experimental\", \"Max\", \"Min\"]))\n",
    "print(\"\\n---- Pins_rev HPK ----\")\n",
    "# display(df_pinr_all)\n",
    "# display(pd.DataFrame(np.array(( [8.7],[0.5],[0.5], pinr_mean, pinr_max, pinr_min )), columns=pinr_labels, index=[\"Theoretical\", \"STD+\", \"STD-\", \"Experimental\", \"Max\", \"Min\"]))"
   ]
  },
  {
   "cell_type": "markdown",
   "metadata": {},
   "source": [
    "The next cell checks that the measured values are within the specifications.\n",
    "\n",
    "You just need to run ```check_specifications``` and it will return the wrong values with it IDs."
   ]
  },
  {
   "cell_type": "code",
   "execution_count": null,
   "metadata": {},
   "outputs": [],
   "source": [
    "print(\"PCB\")\n",
    "check_especifications(df_pcbs_ids, df_pcbs_all, pcbs_labels, \"../fit_data/errors_pcb\")\n",
    "\n",
    "print(\"SiPMs\")\n",
    "check_especifications(df_sipm_ids, df_sipm_all, sipm_labels, \"../fit_data/errors_sipm\")\n",
    "\n",
    "print(\"PIN_ANV\")\n",
    "check_especifications(df_pina_ids, df_pina_all, pina_labels, \"../fit_data/errors_pina\")\n",
    "\n",
    "# print(\"PIN_REV\")\n",
    "# check_especifications(df_pinr_ids, df_pinr_all, pinr_labels, \"../fit_data/errors_pinr\")"
   ]
  },
  {
   "cell_type": "markdown",
   "metadata": {},
   "source": [
    "### TIME TO PLOT !\n",
    "\n",
    "Three following cells will plot the histograms combining all the data introduced before.\n",
    "\n",
    "The first one will plot the distributions of the PCBs, then the SiPMs and finally the pins.\n",
    "\n",
    "For the burrs we have an special treatment as we add the right and left measurements (take the combined plot obtained in the following independent cell).\n",
    "\n",
    "The variables defined in these cells are used to make the plots, feel free to change them (see ```plotlytos``` for more info)"
   ]
  },
  {
   "cell_type": "code",
   "execution_count": null,
   "metadata": {},
   "outputs": [],
   "source": [
    "## BURRS ##\n",
    "aux_pcbs1 =  pd.concat([df_pcbs_ids['Longitud rebaje izquierdo'], df_pcbs_ids['Longitud rebaje derecho']], axis=0, ignore_index=True)\n",
    "aux_pcbs2 =  pd.concat([df_pcbs_ids['Anchura rebaje izquierdo'],  df_pcbs_ids['Anchura rebaje derecho']],  axis=0, ignore_index=True)\n",
    "aux_pcbs1 = pd.DataFrame(aux_pcbs1, columns=['Length']); aux_pcbs1[\"IDs\"] = df_pcbs_ids[\"IDs\"].to_list()*2\n",
    "aux_pcbs2 = pd.DataFrame(aux_pcbs2, columns=['Width']);  aux_pcbs2[\"IDs\"] = df_pcbs_ids[\"IDs\"].to_list()*2\n",
    "\n",
    "aux_mean1 = pd.DataFrame()\n",
    "aux_mean2 = pd.DataFrame()\n",
    "aux_mean1[\"Length\"] = df_pcbs_all['Longitud rebaje derecho']\n",
    "aux_mean2[\"Width\"]  = df_pcbs_all['Anchura rebaje derecho']\n",
    "\n",
    "titles = ['PCB - burr lenght (R1) ', 'PCB - burr width (R2)']\n",
    "xlabel = ['Length [mm]', 'Width [mm]']\n",
    "ylabel = ['Nº PCBs'] * len(titles)\n",
    "colums = ['Length', 'Width']\n",
    "colors = [\"purple\",\"orange\",\"red\"]\n",
    "df_raw = [aux_pcbs1, aux_pcbs2]\n",
    "df_fin = [aux_mean1, aux_mean2]\n",
    "\n",
    "for i in range(len(titles)): fig = plotlytos(titles[i], xlabel[i], ylabel[i], df_raw[i], df_fin[i], colums[i],colors=colors,decimales=3,text_auto=False); fig.show()"
   ]
  },
  {
   "cell_type": "code",
   "execution_count": null,
   "metadata": {},
   "outputs": [],
   "source": [
    "## PCBS (ignoring the burrs here) ##\n",
    "titles = ['PCB - Diameter S1', 'PCB - Distance to Drill (D1)', 'PCB - Position X (S1)', 'PCB - Diameter S6', 'PCB - Distance to Drill (D2)', 'PCB - Position X (S6)', 'PCB - Width','PCB - Length', 'PCB - burr lenght (R2) ', 'PCB - burr width (R1)', 'PCB - Longitud rebaje derecho', 'PCB - Anchura rebaje derecho', 'PCB - Distancia entre taladros']\n",
    "xlabel = ['Diameter S1 [mm]', 'Position [mm]', 'Position [mm]', 'Diametro Taladro 2 (S6)', 'Position [mm]', 'Position [mm]', 'Width [mm]','Lenght [mm]', 'Longitud rebaje izquierdo', 'Anchura rebaje izquierdo', 'Longitud rebaje derecho', 'Anchura rebaje derecho', 'Distancia entre taladros']\n",
    "ylabel = ['Nº PCBs'] * len(titles)\n",
    "colums = ['Diametro Taladro 1 (S1)', 'Posición Y S1', 'Posición X S1', 'Diametro Taladro 2 (S6)', 'Posición Y TS6', 'Posición X TS6', 'Anchura (maxima)','Longitud (maxima)', 'Longitud rebaje izquierdo', 'Anchura rebaje izquierdo', 'Longitud rebaje derecho', 'Anchura rebaje derecho', 'Distancia entre taladros']\n",
    "colors = [\"purple\",\"orange\",\"red\"]\n",
    "df_raw = df_pcbs_ids\n",
    "df_fin = df_pcbs_all\n",
    "\n",
    "for i in range(len(titles)): fig = plotlytos(titles[i], xlabel[i], ylabel[i], df_raw, df_fin, colums[i],colors=colors,decimales=3,text_auto=False); fig.show()\n",
    "\n",
    "# show_html(fig)\n",
    "# save_html(fig,str(colums[i])+\".html\")\n",
    "# fig.write_image(str(colums[i])+\".png\")\n",
    "\n",
    " # NOT SHOWING PLANITUD PORQUE NO ESTA EN LAS ESPECIFICACIONES "
   ]
  },
  {
   "cell_type": "code",
   "execution_count": null,
   "metadata": {},
   "outputs": [],
   "source": [
    "## SiPMs ##\n",
    "titles = ['SiPMs - Position X', 'Position Y', 'SiPMs - Height']\n",
    "xlabel = ['Position [mm]', 'Position [mm]', 'Height [mm]']\n",
    "ylabel = ['Nº SiPMs'] * len(titles)\n",
    "colums = ['Posición X', 'Posición Y', 'Altura']\n",
    "colors = [\"purple\",\"orange\",\"red\"]\n",
    "df_raw = df_sipm_ids\n",
    "df_fin = df_sipm_all\n",
    "\n",
    "for i in range(len(titles)): fig = plotlytos(titles[i], xlabel[i], ylabel[i], df_raw, df_fin, colums[i],colors=colors,decimales=2,text_auto=False); fig.show()"
   ]
  },
  {
   "cell_type": "code",
   "execution_count": null,
   "metadata": {},
   "outputs": [],
   "source": [
    "## Pins ##\n",
    "titles = ['Pins - Position X (front)', 'Position Y (front)', 'Pins - weld height', 'Pins - Height']\n",
    "xlabel = ['Position [mm]', 'Position [mm]', 'Height [mm]', 'Height [mm]']\n",
    "ylabel = ['Nº Pins'] * len(titles)\n",
    "colums = ['Posición X', 'Posición Y', 'Altura Pin', 'Altura Pin']\n",
    "colors = [\"purple\",\"orange\",\"red\"]\n",
    "df_raw = [df_pina_ids] * (len(titles)-1) + [df_pinr_ids]\n",
    "df_fin = [df_pina_all] * (len(titles)-1) + [df_pinr_all]\n",
    "\n",
    "for i in range(len(titles)): fig = plotlytos(titles[i], xlabel[i], ylabel[i], df_raw[i], df_fin[i], colums[i],colors=colors,text_auto=False); fig.show()"
   ]
  }
 ],
 "metadata": {
  "kernelspec": {
   "display_name": "Python 3",
   "language": "python",
   "name": "python3"
  },
  "language_info": {
   "codemirror_mode": {
    "name": "ipython",
    "version": 3
   },
   "file_extension": ".py",
   "mimetype": "text/x-python",
   "name": "python",
   "nbconvert_exporter": "python",
   "pygments_lexer": "ipython3",
   "version": "3.8.10"
  },
  "orig_nbformat": 4
 },
 "nbformat": 4,
 "nbformat_minor": 2
}
